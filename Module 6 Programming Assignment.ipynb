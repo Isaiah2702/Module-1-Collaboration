{
 "cells": [
  {
   "cell_type": "code",
   "execution_count": 1,
   "id": "356a186e-1602-44c7-96f4-dff5a4e9674e",
   "metadata": {},
   "outputs": [],
   "source": [
    "import datetime\n",
    "\n",
    "# Get current date\n",
    "today = datetime.date.today()\n",
    "\n",
    "# Write the date to today.txt\n",
    "with open('today.txt', 'w') as file:\n",
    "    file.write(today.isoformat())\n"
   ]
  },
  {
   "cell_type": "code",
   "execution_count": 3,
   "id": "3436327f-32cf-4d66-87d3-4f3f19e5b6d6",
   "metadata": {},
   "outputs": [
    {
     "name": "stdout",
     "output_type": "stream",
     "text": [
      "2025-04-24\n"
     ]
    }
   ],
   "source": [
    "# Read the content of today.txt\n",
    "with open('today.txt', 'r') as file:\n",
    "    today_string = file.read()\n",
    "\n",
    "print(today_string)  # Just to check the output\n"
   ]
  },
  {
   "cell_type": "code",
   "execution_count": 5,
   "id": "a6ea6e60-f976-4115-b77c-63206f70444a",
   "metadata": {},
   "outputs": [
    {
     "name": "stdout",
     "output_type": "stream",
     "text": [
      "2025-04-24\n"
     ]
    }
   ],
   "source": [
    "# Parse today_string back to a date object\n",
    "parsed_date = datetime.datetime.strptime(today_string, '%Y-%m-%d').date()\n",
    "\n",
    "print(parsed_date)  # Just to confirm it worked"
   ]
  },
  {
   "cell_type": "code",
   "execution_count": 11,
   "id": "816e3179-861f-48fc-98a5-b5b931c47c79",
   "metadata": {},
   "outputs": [
    {
     "name": "stdout",
     "output_type": "stream",
     "text": [
      "Thread T1 - Time: 17:27:40.538 - Waited: 0.297 seconds\n",
      "Thread T2 - Time: 17:27:40.602 - Waited: 0.362 seconds\n",
      "Thread T3 - Time: 17:27:41.110 - Waited: 0.869 seconds\n",
      "All threads completed.\n"
     ]
    }
   ],
   "source": [
    "import threading\n",
    "import time\n",
    "import random\n",
    "from datetime import datetime\n",
    "\n",
    "def wait_and_print():\n",
    "    wait_time = random.random()\n",
    "    time.sleep(wait_time)\n",
    "    print(f'Thread {threading.current_thread().name} - Time: {datetime.now().strftime(\"%H:%M:%S.%f\")[:-3]} - Waited: {wait_time:.3f} seconds', flush=True)\n",
    "\n",
    "threads = []\n",
    "\n",
    "for i in range(3):\n",
    "    t = threading.Thread(target=wait_and_print, name=f'T{i+1}')\n",
    "    threads.append(t)\n",
    "    t.start()\n",
    "\n",
    "for t in threads:\n",
    "    t.join()\n",
    "\n",
    "print(\"All threads completed.\")\n",
    "\n"
   ]
  }
 ],
 "metadata": {
  "kernelspec": {
   "display_name": "Python [conda env:base] *",
   "language": "python",
   "name": "conda-base-py"
  },
  "language_info": {
   "codemirror_mode": {
    "name": "ipython",
    "version": 3
   },
   "file_extension": ".py",
   "mimetype": "text/x-python",
   "name": "python",
   "nbconvert_exporter": "python",
   "pygments_lexer": "ipython3",
   "version": "3.12.7"
  }
 },
 "nbformat": 4,
 "nbformat_minor": 5
}
