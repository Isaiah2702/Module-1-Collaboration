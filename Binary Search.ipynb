{
 "cells": [
  {
   "cell_type": "code",
   "execution_count": 4,
   "id": "75cbc9bf-3bd3-4ca4-98ac-15d64cc86193",
   "metadata": {},
   "outputs": [
    {
     "name": "stdout",
     "output_type": "stream",
     "text": [
      "3\n",
      "-1\n",
      "0\n"
     ]
    }
   ],
   "source": [
    "def binarySearch(arr, k):\n",
    "    low, high = 0, len(arr) - 1\n",
    "    result = -1  \n",
    "\n",
    "    while low <= high:\n",
    "        mid = (low + high) // 2\n",
    "\n",
    "        if arr[mid] == k:\n",
    "            result = mid  \n",
    "            high = mid - 1  \n",
    "        elif arr[mid] < k:\n",
    "            low = mid + 1\n",
    "        else:\n",
    "            high = mid - 1\n",
    "\n",
    "    return result  \n",
    "\n",
    "\n",
    "arr1 = [1, 2, 3, 4, 5]\n",
    "k1 = 4\n",
    "arr2 = [11, 22, 33, 44, 55]\n",
    "k2 = 445\n",
    "arr3 = [1, 1, 1, 1, 2]\n",
    "k3 = 1\n",
    "\n",
    "print(binarySearch(arr1, k1)) \n",
    "print(binarySearch(arr2, k2))  \n",
    "print(binarySearch(arr3, k3))  \n"
   ]
  },
  {
   "cell_type": "code",
   "execution_count": null,
   "id": "93a76b47-ea12-493a-82c6-b76dc2a039b2",
   "metadata": {},
   "outputs": [],
   "source": []
  }
 ],
 "metadata": {
  "kernelspec": {
   "display_name": "Python [conda env:base] *",
   "language": "python",
   "name": "conda-base-py"
  },
  "language_info": {
   "codemirror_mode": {
    "name": "ipython",
    "version": 3
   },
   "file_extension": ".py",
   "mimetype": "text/x-python",
   "name": "python",
   "nbconvert_exporter": "python",
   "pygments_lexer": "ipython3",
   "version": "3.12.7"
  }
 },
 "nbformat": 4,
 "nbformat_minor": 5
}
