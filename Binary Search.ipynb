{
 "cells": [
  {
   "cell_type": "code",
   "execution_count": null,
   "id": "75cbc9bf-3bd3-4ca4-98ac-15d64cc86193",
   "metadata": {},
   "outputs": [],
   "source": []
  }
 ],
 "metadata": {
  "kernelspec": {
   "display_name": "",
   "name": ""
  },
  "language_info": {
   "name": ""
  }
 },
 "nbformat": 4,
 "nbformat_minor": 5
}
