{
 "cells": [
  {
   "cell_type": "code",
   "execution_count": 1,
   "id": "02fd985b-5231-412a-9228-4db97c283387",
   "metadata": {},
   "outputs": [
    {
     "name": "stdout",
     "output_type": "stream",
     "text": [
      "Original list: ['mozzarella', 'cinderella', 'salmonella']\n"
     ]
    }
   ],
   "source": [
    "things = [\"mozzarella\", \"cinderella\", \"salmonella\"]\n",
    "print(\"Original list:\", things)"
   ]
  },
  {
   "cell_type": "code",
   "execution_count": 3,
   "id": "ffba13bc-cc19-46f7-b8c2-d9ddfb3fe1a5",
   "metadata": {},
   "outputs": [
    {
     "name": "stdout",
     "output_type": "stream",
     "text": [
      "After capitalizing person: ['mozzarella', 'Cinderella', 'salmonella']\n"
     ]
    }
   ],
   "source": [
    "things[1] = things[1].capitalize()\n",
    "print(\"After capitalizing person:\", things)"
   ]
  },
  {
   "cell_type": "code",
   "execution_count": 5,
   "id": "62189562-e25c-4c7d-bd9a-2b0f97fc3d1f",
   "metadata": {},
   "outputs": [
    {
     "name": "stdout",
     "output_type": "stream",
     "text": [
      "After making cheesy element uppercase: ['MOZZARELLA', 'Cinderella', 'salmonella']\n"
     ]
    }
   ],
   "source": [
    "things[0] = things[0].upper()\n",
    "print(\"After making cheesy element uppercase:\", things)"
   ]
  },
  {
   "cell_type": "code",
   "execution_count": 7,
   "id": "ac58d789-5759-45fb-b200-6b9526e7489a",
   "metadata": {},
   "outputs": [
    {
     "name": "stdout",
     "output_type": "stream",
     "text": [
      "After deleting disease element: ['MOZZARELLA', 'Cinderella']\n"
     ]
    }
   ],
   "source": [
    "things.remove(\"salmonella\")\n",
    "print(\"After deleting disease element:\", things)"
   ]
  },
  {
   "cell_type": "code",
   "execution_count": 9,
   "id": "93e658af-1e97-4cec-abbc-732037062861",
   "metadata": {},
   "outputs": [
    {
     "name": "stdout",
     "output_type": "stream",
     "text": [
      "Congratulations on your Nobel Prize!\n"
     ]
    }
   ],
   "source": [
    "print(\"Congratulations on your Nobel Prize!\")"
   ]
  },
  {
   "cell_type": "code",
   "execution_count": 15,
   "id": "c800a785-c4cd-49a4-9630-b9fcf9791056",
   "metadata": {},
   "outputs": [
    {
     "name": "stdout",
     "output_type": "stream",
     "text": [
      "['Harry', 'Ron', 'Hermione']\n"
     ]
    }
   ],
   "source": [
    "def good():\n",
    "    return [\"Harry\", \"Ron\", \"Hermione\"]\n",
    "print(good())"
   ]
  },
  {
   "cell_type": "code",
   "execution_count": 17,
   "id": "a5189a95-84ea-43fc-9055-6f0be5e94b6d",
   "metadata": {},
   "outputs": [
    {
     "name": "stdout",
     "output_type": "stream",
     "text": [
      "The third odd number is: 5\n"
     ]
    }
   ],
   "source": [
    "def get_odds():\n",
    "    for num in range(10):\n",
    "        if num % 2 == 1:  \n",
    "            yield num\n",
    "            \n",
    "odds = get_odds()\n",
    "for i, value in enumerate(odds, start=1):\n",
    "    if i == 3:\n",
    "        print(\"The third odd number is:\", value)\n",
    "        break"
   ]
  },
  {
   "cell_type": "code",
   "execution_count": null,
   "id": "c78b86af-2609-4a3b-9263-97a84a240fe4",
   "metadata": {},
   "outputs": [],
   "source": []
  }
 ],
 "metadata": {
  "kernelspec": {
   "display_name": "Python [conda env:base] *",
   "language": "python",
   "name": "conda-base-py"
  },
  "language_info": {
   "codemirror_mode": {
    "name": "ipython",
    "version": 3
   },
   "file_extension": ".py",
   "mimetype": "text/x-python",
   "name": "python",
   "nbconvert_exporter": "python",
   "pygments_lexer": "ipython3",
   "version": "3.12.7"
  }
 },
 "nbformat": 4,
 "nbformat_minor": 5
}
