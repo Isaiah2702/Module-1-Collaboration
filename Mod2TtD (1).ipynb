{
 "cells": [
  {
   "cell_type": "code",
   "execution_count": 25,
   "id": "4ef047c0-37e3-4932-94ef-ad79c2afe421",
   "metadata": {},
   "outputs": [
    {
     "name": "stdout",
     "output_type": "stream",
     "text": [
      "too low\n"
     ]
    }
   ],
   "source": [
    "secret = 8 \n",
    "guess = 3 \n",
    "if guess < secret: \n",
    "    print (\"too low\")\n",
    "elif guess > secret:\n",
    "    print (\"too high\")\n",
    "else:\n",
    "    print (\"just right\")"
   ]
  },
  {
   "cell_type": "code",
   "execution_count": 31,
   "id": "bad90b84-e233-4225-b34c-8631df2713c4",
   "metadata": {},
   "outputs": [
    {
     "name": "stdout",
     "output_type": "stream",
     "text": [
      "cherry\n"
     ]
    }
   ],
   "source": [
    "small = True\n",
    "green = False\n",
    "if small and green:\n",
    "    print (\"pea\")\n",
    "elif small and not green:\n",
    "    print (\"cherry\")\n",
    "elif not small and green:\n",
    "    print (\"watermelon\")\n",
    "else:\n",
    "    print (\"pumkin\")"
   ]
  },
  {
   "cell_type": "code",
   "execution_count": 33,
   "id": "13916395-928e-47bb-b84e-830945618721",
   "metadata": {},
   "outputs": [
    {
     "name": "stdout",
     "output_type": "stream",
     "text": [
      "pea\n"
     ]
    }
   ],
   "source": [
    "small = True\n",
    "green = True\n",
    "if small and green:\n",
    "    print (\"pea\")\n",
    "elif small and not green:\n",
    "    print (\"cherry\")\n",
    "elif not small and green:\n",
    "    print (\"watermelon\")\n",
    "else:\n",
    "    print (\"pumkin\")"
   ]
  },
  {
   "cell_type": "code",
   "execution_count": 35,
   "id": "b1724491-44cb-42b4-a834-7fc18ba1828a",
   "metadata": {},
   "outputs": [
    {
     "name": "stdout",
     "output_type": "stream",
     "text": [
      "watermelon\n"
     ]
    }
   ],
   "source": [
    "small = False\n",
    "green = True\n",
    "if small and green:\n",
    "    print (\"pea\")\n",
    "elif small and not green:\n",
    "    print (\"cherry\")\n",
    "elif not small and green:\n",
    "    print (\"watermelon\")\n",
    "else:\n",
    "    print (\"pumkin\")"
   ]
  },
  {
   "cell_type": "code",
   "execution_count": 37,
   "id": "1d0c987c-3488-47e8-a111-ffce5539f7d8",
   "metadata": {},
   "outputs": [
    {
     "name": "stdout",
     "output_type": "stream",
     "text": [
      "pumkin\n"
     ]
    }
   ],
   "source": [
    "small = False\n",
    "green = False\n",
    "if small and green:\n",
    "    print (\"pea\")\n",
    "elif small and not green:\n",
    "    print (\"cherry\")\n",
    "elif not small and green:\n",
    "    print (\"watermelon\")\n",
    "else:\n",
    "    print (\"pumkin\")"
   ]
  },
  {
   "cell_type": "code",
   "execution_count": 1,
   "id": "1a0ab284-411b-41f0-93f8-4a9a29b2cb2d",
   "metadata": {},
   "outputs": [
    {
     "name": "stdout",
     "output_type": "stream",
     "text": [
      "3\n",
      "2\n",
      "1\n",
      "0\n"
     ]
    }
   ],
   "source": [
    "for num in [3, 2, 1, 0]:\n",
    "    print(num)"
   ]
  },
  {
   "cell_type": "code",
   "execution_count": 3,
   "id": "d3849e87-d9b7-4894-a2ff-e9ee9eec3623",
   "metadata": {},
   "outputs": [
    {
     "name": "stdout",
     "output_type": "stream",
     "text": [
      "too low\n",
      "too low\n",
      "too low\n",
      "too low\n",
      "too low\n",
      "too low\n",
      "found it!\n"
     ]
    }
   ],
   "source": [
    "guess_me = 7\n",
    "number = 1\n",
    "\n",
    "while number <= guess_me:\n",
    "    if number < guess_me:\n",
    "        print(\"too low\")\n",
    "    elif number == guess_me:\n",
    "        print(\"found it!\")\n",
    "        break\n",
    "    number += 1\n",
    "else:\n",
    "    print(\"oops\")"
   ]
  },
  {
   "cell_type": "code",
   "execution_count": 5,
   "id": "3dc74529-5e48-4981-a8e2-31fd9a2c4407",
   "metadata": {},
   "outputs": [
    {
     "name": "stdout",
     "output_type": "stream",
     "text": [
      "too low\n",
      "too low\n",
      "too low\n",
      "too low\n",
      "too low\n",
      "found it!\n"
     ]
    }
   ],
   "source": [
    "guess_me = 5\n",
    "\n",
    "for number in range(10):\n",
    "    if number < guess_me:\n",
    "        print(\"too low\")\n",
    "    elif number == guess_me:\n",
    "        print(\"found it!\")\n",
    "        break\n",
    "    else:\n",
    "        print(\"oops\")\n",
    "        break"
   ]
  },
  {
   "cell_type": "code",
   "execution_count": null,
   "id": "560c94db-298c-4031-8a48-36f0a0e7bcb2",
   "metadata": {},
   "outputs": [],
   "source": []
  }
 ],
 "metadata": {
  "kernelspec": {
   "display_name": "Python [conda env:base] *",
   "language": "python",
   "name": "conda-base-py"
  },
  "language_info": {
   "codemirror_mode": {
    "name": "ipython",
    "version": 3
   },
   "file_extension": ".py",
   "mimetype": "text/x-python",
   "name": "python",
   "nbconvert_exporter": "python",
   "pygments_lexer": "ipython3",
   "version": "3.12.7"
  }
 },
 "nbformat": 4,
 "nbformat_minor": 5
}
