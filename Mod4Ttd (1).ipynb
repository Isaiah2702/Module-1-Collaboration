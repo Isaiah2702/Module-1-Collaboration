{
 "cells": [
  {
   "cell_type": "code",
   "execution_count": 9,
   "id": "ef63bfc1-f4df-4e7e-9d7e-b8ad99aedadb",
   "metadata": {},
   "outputs": [],
   "source": [
    "# Create zoo.py file\n",
    "with open(\"zoo.py\", \"w\") as f:\n",
    "    f.write(\"\"\"\n",
    "def hours():\n",
    "    print(\"Open 9-5 daily\")\n",
    "\"\"\")\n"
   ]
  },
  {
   "cell_type": "code",
   "execution_count": null,
   "id": "952261b6-e4a7-47df-9ef2-e79c0433204d",
   "metadata": {},
   "outputs": [],
   "source": [
    "import zoo\n",
    "zoo.hours()\n",
    "import zoo as menagerie\n",
    "menagerie.hours()\n"
   ]
  },
  {
   "cell_type": "code",
   "execution_count": 1,
   "id": "1c90749f-ef95-4e06-8a83-781924d56e81",
   "metadata": {},
   "outputs": [
    {
     "name": "stdout",
     "output_type": "stream",
     "text": [
      "A Brief History of Time\n",
      "Harry Potter and the Philosopher's Stone\n",
      "To Kill a Mockingbird\n"
     ]
    }
   ],
   "source": [
    "from sqlalchemy import create_engine, MetaData, Table, select\n",
    "\n",
    "# Connect to the SQLite database\n",
    "engine = create_engine('sqlite:///books.db')\n",
    "connection = engine.connect()\n",
    "\n",
    "# Reflect the existing database\n",
    "metadata = MetaData()\n",
    "book = Table('book', metadata, autoload_with=engine)\n",
    "\n",
    "# Build and execute the query to select titles in alphabetical order\n",
    "query = select(book.c.title).order_by(book.c.title)\n",
    "result = connection.execute(query)\n",
    "\n",
    "# Print the results\n",
    "for row in result:\n",
    "    print(row.title)\n",
    "\n",
    "# Close the connection\n",
    "connection.close()\n"
   ]
  },
  {
   "cell_type": "code",
   "execution_count": null,
   "id": "d553a5bc-e68f-43f9-a56c-10d736cb685c",
   "metadata": {},
   "outputs": [],
   "source": []
  }
 ],
 "metadata": {
  "kernelspec": {
   "display_name": "Python [conda env:base] *",
   "language": "python",
   "name": "conda-base-py"
  },
  "language_info": {
   "codemirror_mode": {
    "name": "ipython",
    "version": 3
   },
   "file_extension": ".py",
   "mimetype": "text/x-python",
   "name": "python",
   "nbconvert_exporter": "python",
   "pygments_lexer": "ipython3",
   "version": "3.12.7"
  }
 },
 "nbformat": 4,
 "nbformat_minor": 5
}
